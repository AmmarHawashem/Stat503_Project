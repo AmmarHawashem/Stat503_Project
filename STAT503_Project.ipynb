{
 "cells": [
  {
   "cell_type": "markdown",
   "metadata": {},
   "source": [
    "# Instructions"
   ]
  },
  {
   "cell_type": "markdown",
   "metadata": {},
   "source": [
    "Instructions\n",
    "1.\tComments and discussion of the results are essential; hence they should be included as required.\n",
    "2.\tThis project comprises 15% of the overall marks for this course.\n",
    "3.\tUpon completion, you should email your submission directly to me,\n",
    "mohfarah@kfupm.edu.sa. Also a copy should be submitted via the Blackboard.\n"
   ]
  },
  {
   "cell_type": "code",
   "execution_count": 1,
   "metadata": {
    "ExecuteTime": {
     "end_time": "2023-05-24T06:50:57.048713Z",
     "start_time": "2023-05-24T06:50:50.933910Z"
    }
   },
   "outputs": [],
   "source": [
    "#--------------------------\n",
    "# import necessary libraries\n",
    "#--------------------------\n",
    "\n",
    "import pandas as pd              # For data pre-processing\n",
    "import numpy as np               # For arrays and many useful things\n",
    "import seaborn as sns            # For data visuliazation  \n",
    "import matplotlib.pyplot as plt  # For data visuliazation"
   ]
  },
  {
   "cell_type": "markdown",
   "metadata": {},
   "source": [
    "# Question1: Prices dataset"
   ]
  },
  {
   "cell_type": "markdown",
   "metadata": {},
   "source": [
    "For this question, the data are contained in the file Prices.txt, available on Blackboard. The data consist of the daily share prices of one of the popular companies in KSA, in dollars($). The data was obtained by a data scientist for purely research purposes. The sample size is 520.\n",
    "\n",
    "a.\tAssuming the data scientist told you that the first 300 rows are based on 2019 share prices, and the next 220 rows are prices from 2020. Incorporate this piece of information into a second column in your data frame, called Price$year.\n",
    "<br><br>\n",
    "b.\tDraw two box plots; one for the price distribution in 2019 and another for the price distribution in 2020. Comment on the main features of the plots. Do you think that the distributions are symmetric? I strongly suggest that you put the two box plots on the same axes to facilitate comparison.\n",
    "<br><br>\n",
    "\n",
    "c.\tPut the 2019 price values into a variable called Prices2019.\n",
    "<br><br>\n",
    "d.\tUse the fitted model to estimate the probability that a randomly selected share price in 2019 is between 40 and 70. (assume Normal)\n"
   ]
  },
  {
   "cell_type": "code",
   "execution_count": 2,
   "metadata": {
    "ExecuteTime": {
     "end_time": "2023-05-24T06:50:57.157284Z",
     "start_time": "2023-05-24T06:50:57.053696Z"
    },
    "scrolled": true
   },
   "outputs": [
    {
     "name": "stderr",
     "output_type": "stream",
     "text": [
      "C:\\Users\\AmmarYasser\\AppData\\Local\\Temp\\ipykernel_15292\\2547090803.py:5: ParserWarning: Falling back to the 'python' engine because the 'c' engine does not support regex separators (separators > 1 char and different from '\\s+' are interpreted as regex); you can avoid this warning by specifying engine='python'.\n",
      "  df = pd.read_csv(\"prices.txt\", sep = \"\\\\t\", header = 0)\n"
     ]
    },
    {
     "data": {
      "text/html": [
       "<div>\n",
       "<style scoped>\n",
       "    .dataframe tbody tr th:only-of-type {\n",
       "        vertical-align: middle;\n",
       "    }\n",
       "\n",
       "    .dataframe tbody tr th {\n",
       "        vertical-align: top;\n",
       "    }\n",
       "\n",
       "    .dataframe thead th {\n",
       "        text-align: right;\n",
       "    }\n",
       "</style>\n",
       "<table border=\"1\" class=\"dataframe\">\n",
       "  <thead>\n",
       "    <tr style=\"text-align: right;\">\n",
       "      <th></th>\n",
       "      <th>Prices</th>\n",
       "    </tr>\n",
       "  </thead>\n",
       "  <tbody>\n",
       "    <tr>\n",
       "      <th>0</th>\n",
       "      <td>65.77</td>\n",
       "    </tr>\n",
       "    <tr>\n",
       "      <th>1</th>\n",
       "      <td>65.50</td>\n",
       "    </tr>\n",
       "    <tr>\n",
       "      <th>2</th>\n",
       "      <td>65.45</td>\n",
       "    </tr>\n",
       "    <tr>\n",
       "      <th>3</th>\n",
       "      <td>65.36</td>\n",
       "    </tr>\n",
       "    <tr>\n",
       "      <th>4</th>\n",
       "      <td>65.07</td>\n",
       "    </tr>\n",
       "    <tr>\n",
       "      <th>...</th>\n",
       "      <td>...</td>\n",
       "    </tr>\n",
       "    <tr>\n",
       "      <th>515</th>\n",
       "      <td>42.13</td>\n",
       "    </tr>\n",
       "    <tr>\n",
       "      <th>516</th>\n",
       "      <td>41.75</td>\n",
       "    </tr>\n",
       "    <tr>\n",
       "      <th>517</th>\n",
       "      <td>41.43</td>\n",
       "    </tr>\n",
       "    <tr>\n",
       "      <th>518</th>\n",
       "      <td>42.45</td>\n",
       "    </tr>\n",
       "    <tr>\n",
       "      <th>519</th>\n",
       "      <td>42.00</td>\n",
       "    </tr>\n",
       "  </tbody>\n",
       "</table>\n",
       "<p>520 rows × 1 columns</p>\n",
       "</div>"
      ],
      "text/plain": [
       "     Prices\n",
       "0     65.77\n",
       "1     65.50\n",
       "2     65.45\n",
       "3     65.36\n",
       "4     65.07\n",
       "..      ...\n",
       "515   42.13\n",
       "516   41.75\n",
       "517   41.43\n",
       "518   42.45\n",
       "519   42.00\n",
       "\n",
       "[520 rows x 1 columns]"
      ]
     },
     "execution_count": 2,
     "metadata": {},
     "output_type": "execute_result"
    }
   ],
   "source": [
    "#--------------------------\n",
    "# import dataset\n",
    "#--------------------------\n",
    "\n",
    "df = pd.read_csv(\"prices.txt\", sep = \"\\\\t\", header = 0)\n",
    "df"
   ]
  },
  {
   "cell_type": "code",
   "execution_count": 3,
   "metadata": {
    "ExecuteTime": {
     "end_time": "2023-05-24T06:50:57.187609Z",
     "start_time": "2023-05-24T06:50:57.170615Z"
    },
    "scrolled": false
   },
   "outputs": [],
   "source": [
    "#--------------------------\n",
    "# Create a column for the Year, to be ddded into the datafrme\n",
    "#--------------------------\n",
    "\n",
    "Year = []\n",
    "\n",
    "for i in range(0,300):  # [0,300) to add 2019 300 times \n",
    "    Year.append(2019)\n",
    "for i in range(0,220):\n",
    "    Year.append(2020)"
   ]
  },
  {
   "cell_type": "code",
   "execution_count": 4,
   "metadata": {
    "ExecuteTime": {
     "end_time": "2023-05-24T06:50:57.218486Z",
     "start_time": "2023-05-24T06:50:57.195578Z"
    },
    "scrolled": false
   },
   "outputs": [
    {
     "data": {
      "text/html": [
       "<div>\n",
       "<style scoped>\n",
       "    .dataframe tbody tr th:only-of-type {\n",
       "        vertical-align: middle;\n",
       "    }\n",
       "\n",
       "    .dataframe tbody tr th {\n",
       "        vertical-align: top;\n",
       "    }\n",
       "\n",
       "    .dataframe thead th {\n",
       "        text-align: right;\n",
       "    }\n",
       "</style>\n",
       "<table border=\"1\" class=\"dataframe\">\n",
       "  <thead>\n",
       "    <tr style=\"text-align: right;\">\n",
       "      <th></th>\n",
       "      <th>Prices</th>\n",
       "      <th>Year</th>\n",
       "    </tr>\n",
       "  </thead>\n",
       "  <tbody>\n",
       "    <tr>\n",
       "      <th>0</th>\n",
       "      <td>65.77</td>\n",
       "      <td>2019</td>\n",
       "    </tr>\n",
       "    <tr>\n",
       "      <th>1</th>\n",
       "      <td>65.50</td>\n",
       "      <td>2019</td>\n",
       "    </tr>\n",
       "    <tr>\n",
       "      <th>2</th>\n",
       "      <td>65.45</td>\n",
       "      <td>2019</td>\n",
       "    </tr>\n",
       "    <tr>\n",
       "      <th>3</th>\n",
       "      <td>65.36</td>\n",
       "      <td>2019</td>\n",
       "    </tr>\n",
       "    <tr>\n",
       "      <th>4</th>\n",
       "      <td>65.07</td>\n",
       "      <td>2019</td>\n",
       "    </tr>\n",
       "    <tr>\n",
       "      <th>...</th>\n",
       "      <td>...</td>\n",
       "      <td>...</td>\n",
       "    </tr>\n",
       "    <tr>\n",
       "      <th>515</th>\n",
       "      <td>42.13</td>\n",
       "      <td>2020</td>\n",
       "    </tr>\n",
       "    <tr>\n",
       "      <th>516</th>\n",
       "      <td>41.75</td>\n",
       "      <td>2020</td>\n",
       "    </tr>\n",
       "    <tr>\n",
       "      <th>517</th>\n",
       "      <td>41.43</td>\n",
       "      <td>2020</td>\n",
       "    </tr>\n",
       "    <tr>\n",
       "      <th>518</th>\n",
       "      <td>42.45</td>\n",
       "      <td>2020</td>\n",
       "    </tr>\n",
       "    <tr>\n",
       "      <th>519</th>\n",
       "      <td>42.00</td>\n",
       "      <td>2020</td>\n",
       "    </tr>\n",
       "  </tbody>\n",
       "</table>\n",
       "<p>520 rows × 2 columns</p>\n",
       "</div>"
      ],
      "text/plain": [
       "     Prices  Year\n",
       "0     65.77  2019\n",
       "1     65.50  2019\n",
       "2     65.45  2019\n",
       "3     65.36  2019\n",
       "4     65.07  2019\n",
       "..      ...   ...\n",
       "515   42.13  2020\n",
       "516   41.75  2020\n",
       "517   41.43  2020\n",
       "518   42.45  2020\n",
       "519   42.00  2020\n",
       "\n",
       "[520 rows x 2 columns]"
      ]
     },
     "execution_count": 4,
     "metadata": {},
     "output_type": "execute_result"
    }
   ],
   "source": [
    "#--------------------------\n",
    "# Add the column to the dataframe\n",
    "#--------------------------\n",
    "\n",
    "df.insert(loc=1, column = \"Year\", value= Year )\n",
    "df"
   ]
  },
  {
   "cell_type": "code",
   "execution_count": 5,
   "metadata": {
    "ExecuteTime": {
     "end_time": "2023-05-24T06:50:57.251399Z",
     "start_time": "2023-05-24T06:50:57.222477Z"
    }
   },
   "outputs": [
    {
     "data": {
      "text/html": [
       "<div>\n",
       "<style scoped>\n",
       "    .dataframe tbody tr th:only-of-type {\n",
       "        vertical-align: middle;\n",
       "    }\n",
       "\n",
       "    .dataframe tbody tr th {\n",
       "        vertical-align: top;\n",
       "    }\n",
       "\n",
       "    .dataframe thead th {\n",
       "        text-align: right;\n",
       "    }\n",
       "</style>\n",
       "<table border=\"1\" class=\"dataframe\">\n",
       "  <thead>\n",
       "    <tr style=\"text-align: right;\">\n",
       "      <th></th>\n",
       "      <th>Prices</th>\n",
       "    </tr>\n",
       "    <tr>\n",
       "      <th>Year</th>\n",
       "      <th></th>\n",
       "    </tr>\n",
       "  </thead>\n",
       "  <tbody>\n",
       "    <tr>\n",
       "      <th>2019</th>\n",
       "      <td>300</td>\n",
       "    </tr>\n",
       "    <tr>\n",
       "      <th>2020</th>\n",
       "      <td>220</td>\n",
       "    </tr>\n",
       "  </tbody>\n",
       "</table>\n",
       "</div>"
      ],
      "text/plain": [
       "      Prices\n",
       "Year        \n",
       "2019     300\n",
       "2020     220"
      ]
     },
     "execution_count": 5,
     "metadata": {},
     "output_type": "execute_result"
    }
   ],
   "source": [
    "#--------------------------\n",
    "# Check by counting the number of observations per year\n",
    "#--------------------------\n",
    "\n",
    "df.groupby(\"Year\")[[\"Prices\"]].count()"
   ]
  },
  {
   "cell_type": "code",
   "execution_count": 6,
   "metadata": {
    "ExecuteTime": {
     "end_time": "2023-05-24T06:50:57.375068Z",
     "start_time": "2023-05-24T06:50:57.269351Z"
    }
   },
   "outputs": [
    {
     "data": {
      "text/html": [
       "<div>\n",
       "<style scoped>\n",
       "    .dataframe tbody tr th:only-of-type {\n",
       "        vertical-align: middle;\n",
       "    }\n",
       "\n",
       "    .dataframe tbody tr th {\n",
       "        vertical-align: top;\n",
       "    }\n",
       "\n",
       "    .dataframe thead tr th {\n",
       "        text-align: left;\n",
       "    }\n",
       "\n",
       "    .dataframe thead tr:last-of-type th {\n",
       "        text-align: right;\n",
       "    }\n",
       "</style>\n",
       "<table border=\"1\" class=\"dataframe\">\n",
       "  <thead>\n",
       "    <tr>\n",
       "      <th></th>\n",
       "      <th colspan=\"8\" halign=\"left\">Prices</th>\n",
       "    </tr>\n",
       "    <tr>\n",
       "      <th></th>\n",
       "      <th>count</th>\n",
       "      <th>mean</th>\n",
       "      <th>std</th>\n",
       "      <th>min</th>\n",
       "      <th>25%</th>\n",
       "      <th>50%</th>\n",
       "      <th>75%</th>\n",
       "      <th>max</th>\n",
       "    </tr>\n",
       "    <tr>\n",
       "      <th>Year</th>\n",
       "      <th></th>\n",
       "      <th></th>\n",
       "      <th></th>\n",
       "      <th></th>\n",
       "      <th></th>\n",
       "      <th></th>\n",
       "      <th></th>\n",
       "      <th></th>\n",
       "    </tr>\n",
       "  </thead>\n",
       "  <tbody>\n",
       "    <tr>\n",
       "      <th>2019</th>\n",
       "      <td>300.0</td>\n",
       "      <td>55.479700</td>\n",
       "      <td>4.269362</td>\n",
       "      <td>48.95</td>\n",
       "      <td>52.3975</td>\n",
       "      <td>54.335</td>\n",
       "      <td>57.455</td>\n",
       "      <td>65.77</td>\n",
       "    </tr>\n",
       "    <tr>\n",
       "      <th>2020</th>\n",
       "      <td>220.0</td>\n",
       "      <td>44.395136</td>\n",
       "      <td>4.190785</td>\n",
       "      <td>35.46</td>\n",
       "      <td>40.8300</td>\n",
       "      <td>43.885</td>\n",
       "      <td>47.115</td>\n",
       "      <td>52.95</td>\n",
       "    </tr>\n",
       "  </tbody>\n",
       "</table>\n",
       "</div>"
      ],
      "text/plain": [
       "     Prices                                                            \n",
       "      count       mean       std    min      25%     50%     75%    max\n",
       "Year                                                                   \n",
       "2019  300.0  55.479700  4.269362  48.95  52.3975  54.335  57.455  65.77\n",
       "2020  220.0  44.395136  4.190785  35.46  40.8300  43.885  47.115  52.95"
      ]
     },
     "execution_count": 6,
     "metadata": {},
     "output_type": "execute_result"
    }
   ],
   "source": [
    "#--------------------------\n",
    "# Show the summary Decriptove statstics per year\n",
    "#--------------------------\n",
    "\n",
    "df.groupby(\"Year\").describe()"
   ]
  },
  {
   "cell_type": "code",
   "execution_count": 7,
   "metadata": {
    "ExecuteTime": {
     "end_time": "2023-05-24T06:50:57.846071Z",
     "start_time": "2023-05-24T06:50:57.387036Z"
    }
   },
   "outputs": [
    {
     "data": {
      "text/plain": [
       "<seaborn.axisgrid.FacetGrid at 0x224cd57fb80>"
      ]
     },
     "execution_count": 7,
     "metadata": {},
     "output_type": "execute_result"
    },
    {
     "data": {
      "image/png": "[encoded data removed]",
      "text/plain": [
       "<Figure size 500x500 with 1 Axes>"
      ]
     },
     "metadata": {},
     "output_type": "display_data"
    }
   ],
   "source": [
    "#--------------------------\n",
    "# Create box plots\n",
    "#--------------------------\n",
    "\n",
    "sns.catplot(data = df, \n",
    "        y = \"Prices\", \n",
    "        x = \"Year\" , \n",
    "        kind = \"box\", \n",
    "        hue = \"Year\")"
   ]
  },
  {
   "cell_type": "markdown",
   "metadata": {},
   "source": [
    "**Comments of the box plots:**\n",
    "- The box plot of 2019 suggests that the data is skewed to the right, which means that the mean is higher than the median which may due to the outliers as shown in the box plot.\n",
    "- The box plot of 2020 suggests that the distribution is symmetric.\n",
    "- The prices in general is less in 2020, which is may due to Covid 19"
   ]
  },
  {
   "cell_type": "code",
   "execution_count": 8,
   "metadata": {
    "ExecuteTime": {
     "end_time": "2023-05-24T06:50:57.909771Z",
     "start_time": "2023-05-24T06:50:57.851927Z"
    }
   },
   "outputs": [
    {
     "name": "stdout",
     "output_type": "stream",
     "text": [
      "2019 calculations:\n",
      "\n",
      " The difference between mean  & median Q2 is:\n",
      "1.1447000000000003\n",
      "\n",
      " The difference between Q2 & Q1 is:\n",
      "1.9375\n",
      "\n",
      " The difference between Q3 & Q2 is:\n",
      "3.1199999999999974\n",
      "\n",
      "\n",
      "\n",
      "\n",
      "2020 calculations:\n",
      "\n",
      " The difference between mean  & median Q2 is:\n",
      "0.51013636363637\n",
      "\n",
      " The difference between Q2 & Q1 is:\n",
      "3.0549999999999997\n",
      "\n",
      " The difference between Q3 & Q2 is:\n",
      "3.230000000000004\n"
     ]
    }
   ],
   "source": [
    "#--------------------------\n",
    "# Check the shape numerically:\n",
    "## Calculate mean - median\n",
    "## Calculate Q2 - Q1 and Q3 -Q2 \n",
    "#--------------------------\n",
    "\n",
    "# Year 2019\n",
    "df_2019 = df.query(\"Year == 2019\")\n",
    "\n",
    "print(\"2019 calculations:\")\n",
    "print(\"\\n\", \"The difference between mean  & median Q2 is:\")\n",
    "print(df_2019[\"Prices\"].mean() - df_2019[\"Prices\"].median())\n",
    "print(\"\\n\", \"The difference between Q2 & Q1 is:\")\n",
    "print(df_2019[\"Prices\"].quantile(0.50) - df_2019[\"Prices\"].quantile(0.25))\n",
    "print(\"\\n\", \"The difference between Q3 & Q2 is:\")\n",
    "print(df_2019[\"Prices\"].quantile(0.75) - df_2019[\"Prices\"].quantile(0.50))\n",
    "\n",
    "print(\"\\n\\n\\n\")\n",
    "\n",
    "# Year 2020\n",
    "df_2020 = df.query(\"Year == 2020\")\n",
    "\n",
    "print(\"2020 calculations:\")\n",
    "print(\"\\n\", \"The difference between mean  & median Q2 is:\")\n",
    "print(df_2020[\"Prices\"].mean() - df_2020[\"Prices\"].median())\n",
    "print(\"\\n\", \"The difference between Q2 & Q1 is:\")\n",
    "print(df_2020[\"Prices\"].quantile(0.50) - df_2020[\"Prices\"].quantile(0.25))\n",
    "print(\"\\n\", \"The difference between Q3 & Q2 is:\")\n",
    "print(df_2020[\"Prices\"].quantile(0.75) - df_2020[\"Prices\"].quantile(0.50))"
   ]
  },
  {
   "cell_type": "code",
   "execution_count": 9,
   "metadata": {
    "ExecuteTime": {
     "end_time": "2023-05-24T06:50:58.360352Z",
     "start_time": "2023-05-24T06:50:57.912765Z"
    },
    "scrolled": true
   },
   "outputs": [
    {
     "data": {
      "text/plain": [
       "<AxesSubplot:xlabel='Prices', ylabel='Count'>"
      ]
     },
     "execution_count": 9,
     "metadata": {},
     "output_type": "execute_result"
    },
    {
     "data": {
      "image/png": "[encoded data removed]",
      "text/plain": [
       "<Figure size 640x480 with 1 Axes>"
      ]
     },
     "metadata": {},
     "output_type": "display_data"
    }
   ],
   "source": [
    "#--------------------------\n",
    "# Create Histograms\n",
    "#--------------------------\n",
    "\n",
    "sns.histplot(data = df,\n",
    "            x = \"Prices\",\n",
    "            hue = \"Year\",\n",
    "            kde = True)"
   ]
  },
  {
   "cell_type": "markdown",
   "metadata": {},
   "source": [
    "For part d, which is: \n",
    "<br>\n",
    "*d.\tUse the fitted model to estimate the probability that a randomly selected share price in 2019 is between 40 and 70.*\n",
    "<br>\n",
    "We will assume that the distribution of prices in 2019 is normal"
   ]
  },
  {
   "cell_type": "code",
   "execution_count": 10,
   "metadata": {
    "ExecuteTime": {
     "end_time": "2023-05-24T06:50:58.406284Z",
     "start_time": "2023-05-24T06:50:58.369857Z"
    }
   },
   "outputs": [
    {
     "data": {
      "text/plain": [
       "0.9995203037236343"
      ]
     },
     "execution_count": 10,
     "metadata": {},
     "output_type": "execute_result"
    }
   ],
   "source": [
    "#--------------------------\n",
    "# Part D after assuming its normal\n",
    "#--------------------------\n",
    "\n",
    "\n",
    "# Find mean and std of 2019\n",
    "mean_2019 = df.query(\"Year == 2019\").mean()\n",
    "std_2019 = df.query(\"Year == 2019\").std()\n",
    "\n",
    "# Calculate propability of P(x<70) - P(x<40)\n",
    "import scipy.stats as st\n",
    "\n",
    "probability = st.norm.cdf(70, loc = mean_2019, scale = std_2019) - st.norm.cdf(40, loc = mean_2019, scale = std_2019)\n",
    "probability[0]"
   ]
  },
  {
   "cell_type": "code",
   "execution_count": 11,
   "metadata": {
    "ExecuteTime": {
     "end_time": "2023-05-24T06:50:59.236107Z",
     "start_time": "2023-05-24T06:50:58.413299Z"
    }
   },
   "outputs": [
    {
     "data": {
      "text/plain": [
       "<AxesSubplot:xlabel='Prices', ylabel='Count'>"
      ]
     },
     "execution_count": 11,
     "metadata": {},
     "output_type": "execute_result"
    },
    {
     "data": {
      "image/png": "[encoded data removed]",
      "text/plain": [
       "<Figure size 640x480 with 1 Axes>"
      ]
     },
     "metadata": {},
     "output_type": "display_data"
    }
   ],
   "source": [
    "#--------------------------\n",
    "# Transform the prices of 2019\n",
    "# Draw a new histogram\n",
    "#--------------------------\n",
    "\n",
    "from sklearn.preprocessing import PowerTransformer\n",
    "\n",
    "Johnson_Transformation =  PowerTransformer()\n",
    "Transformed_2019 = Johnson_Transformation.fit_transform(df.query(\"Year == 2019\"))\n",
    "\n",
    "\n",
    "sns.histplot(data = df,\n",
    "            x = \"Prices\",\n",
    "            kde = True)"
   ]
  },
  {
   "cell_type": "code",
   "execution_count": 12,
   "metadata": {
    "ExecuteTime": {
     "end_time": "2023-05-24T06:51:01.375837Z",
     "start_time": "2023-05-24T06:50:59.247079Z"
    },
    "scrolled": false
   },
   "outputs": [
    {
     "name": "stderr",
     "output_type": "stream",
     "text": [
      "Fitting 5 distributions: 100%|███████████████████████████████████████████████████████| 5/5 [00:01<00:00,  3.99it/s]\n"
     ]
    },
    {
     "data": {
      "text/html": [
       "<div>\n",
       "<style scoped>\n",
       "    .dataframe tbody tr th:only-of-type {\n",
       "        vertical-align: middle;\n",
       "    }\n",
       "\n",
       "    .dataframe tbody tr th {\n",
       "        vertical-align: top;\n",
       "    }\n",
       "\n",
       "    .dataframe thead th {\n",
       "        text-align: right;\n",
       "    }\n",
       "</style>\n",
       "<table border=\"1\" class=\"dataframe\">\n",
       "  <thead>\n",
       "    <tr style=\"text-align: right;\">\n",
       "      <th></th>\n",
       "      <th>sumsquare_error</th>\n",
       "      <th>aic</th>\n",
       "      <th>bic</th>\n",
       "      <th>kl_div</th>\n",
       "      <th>ks_statistic</th>\n",
       "      <th>ks_pvalue</th>\n",
       "    </tr>\n",
       "  </thead>\n",
       "  <tbody>\n",
       "    <tr>\n",
       "      <th>lognorm</th>\n",
       "      <td>0.000917</td>\n",
       "      <td>1782.987503</td>\n",
       "      <td>-8015.868703</td>\n",
       "      <td>inf</td>\n",
       "      <td>0.336545</td>\n",
       "      <td>4.104555e-61</td>\n",
       "    </tr>\n",
       "    <tr>\n",
       "      <th>burr</th>\n",
       "      <td>0.001155</td>\n",
       "      <td>1742.161001</td>\n",
       "      <td>-7870.929897</td>\n",
       "      <td>inf</td>\n",
       "      <td>0.354239</td>\n",
       "      <td>7.344863e-68</td>\n",
       "    </tr>\n",
       "    <tr>\n",
       "      <th>beta</th>\n",
       "      <td>0.001188</td>\n",
       "      <td>1577.710686</td>\n",
       "      <td>-7853.705248</td>\n",
       "      <td>inf</td>\n",
       "      <td>0.500000</td>\n",
       "      <td>3.138914e-139</td>\n",
       "    </tr>\n",
       "    <tr>\n",
       "      <th>norm</th>\n",
       "      <td>0.001275</td>\n",
       "      <td>1599.210892</td>\n",
       "      <td>-7824.052965</td>\n",
       "      <td>inf</td>\n",
       "      <td>0.341344</td>\n",
       "      <td>6.629979e-63</td>\n",
       "    </tr>\n",
       "    <tr>\n",
       "      <th>gamma</th>\n",
       "      <td>0.001275</td>\n",
       "      <td>1601.202120</td>\n",
       "      <td>-7817.655477</td>\n",
       "      <td>inf</td>\n",
       "      <td>0.341329</td>\n",
       "      <td>6.712783e-63</td>\n",
       "    </tr>\n",
       "  </tbody>\n",
       "</table>\n",
       "</div>"
      ],
      "text/plain": [
       "         sumsquare_error          aic          bic  kl_div  ks_statistic  \\\n",
       "lognorm         0.000917  1782.987503 -8015.868703     inf      0.336545   \n",
       "burr            0.001155  1742.161001 -7870.929897     inf      0.354239   \n",
       "beta            0.001188  1577.710686 -7853.705248     inf      0.500000   \n",
       "norm            0.001275  1599.210892 -7824.052965     inf      0.341344   \n",
       "gamma           0.001275  1601.202120 -7817.655477     inf      0.341329   \n",
       "\n",
       "             ks_pvalue  \n",
       "lognorm   4.104555e-61  \n",
       "burr      7.344863e-68  \n",
       "beta     3.138914e-139  \n",
       "norm      6.629979e-63  \n",
       "gamma     6.712783e-63  "
      ]
     },
     "metadata": {},
     "output_type": "display_data"
    },
    {
     "name": "stdout",
     "output_type": "stream",
     "text": [
      "The best is:  {'lognorm': {'s': 3.0400484884417835, 'loc': 48.94720286436669, 'scale': 100.03189678340514}}\n"
     ]
    },
    {
     "data": {
      "image/png": "[encoded data removed]",
      "text/plain": [
       "<Figure size 640x480 with 1 Axes>"
      ]
     },
     "metadata": {},
     "output_type": "display_data"
    }
   ],
   "source": [
    "from fitter import Fitter, get_common_distributions, get_distributions\n",
    "\n",
    "f = Fitter(df.query(\"Year == 2019\"),\n",
    "           distributions=['gamma',\n",
    "                          'lognorm',\n",
    "                          \"beta\",\n",
    "                          \"burr\",\n",
    "                          \"norm\"])\n",
    "f.fit()\n",
    "display(f.summary())\n",
    "print(\"The best is: \", f.get_best(method = 'sumsquare_error'))"
   ]
  },
  {
   "cell_type": "markdown",
   "metadata": {},
   "source": [
    "# Question2: Distance dataset"
   ]
  },
  {
   "cell_type": "markdown",
   "metadata": {},
   "source": [
    "The data for this question are contained in the file distance.txt, available on Blackboard. The data consist of the distance, in miles, 100 randomly selected KFUPM staff commute to work each day.\n",
    "\n",
    "a.\tDraw a histogram of the data.\n",
    "<br><br>\n",
    "b.\tFit any distribution to the data that provides an adequate fit(You may consider fitting more than one distribution for comparison purposes. (Assume Gamma) even though it is wellburn since we do not know how to use gamma function)\n",
    "<br><br>\n",
    "c.\tSuperimpose the fitted PDF on top of the histogram. Briefly describe how the fitted model match with the histogram.\n",
    "<br><br>\n",
    "d.\tAccording to the Kolmogorov Smirnov test, do you think that the fitted distribution provided an adequate fit.\n",
    "<br><br>\n",
    "e.\tConstruct a 95% confidence interval for the mean distance in miles KFUPM staff travel each day to work. \n"
   ]
  },
  {
   "cell_type": "code",
   "execution_count": 13,
   "metadata": {
    "ExecuteTime": {
     "end_time": "2023-05-24T06:51:01.439150Z",
     "start_time": "2023-05-24T06:51:01.403762Z"
    },
    "scrolled": false
   },
   "outputs": [
    {
     "name": "stderr",
     "output_type": "stream",
     "text": [
      "C:\\Users\\AmmarYasser\\AppData\\Local\\Temp\\ipykernel_15292\\1504455356.py:5: ParserWarning: Falling back to the 'python' engine because the 'c' engine does not support regex separators (separators > 1 char and different from '\\s+' are interpreted as regex); you can avoid this warning by specifying engine='python'.\n",
      "  df = pd.read_csv(\"distance.txt\", sep = \"\\\\t\", names = [\"Distance\"])\n"
     ]
    },
    {
     "data": {
      "text/html": [
       "<div>\n",
       "<style scoped>\n",
       "    .dataframe tbody tr th:only-of-type {\n",
       "        vertical-align: middle;\n",
       "    }\n",
       "\n",
       "    .dataframe tbody tr th {\n",
       "        vertical-align: top;\n",
       "    }\n",
       "\n",
       "    .dataframe thead th {\n",
       "        text-align: right;\n",
       "    }\n",
       "</style>\n",
       "<table border=\"1\" class=\"dataframe\">\n",
       "  <thead>\n",
       "    <tr style=\"text-align: right;\">\n",
       "      <th></th>\n",
       "      <th>Distance</th>\n",
       "    </tr>\n",
       "  </thead>\n",
       "  <tbody>\n",
       "    <tr>\n",
       "      <th>0</th>\n",
       "      <td>0.8</td>\n",
       "    </tr>\n",
       "    <tr>\n",
       "      <th>1</th>\n",
       "      <td>0.8</td>\n",
       "    </tr>\n",
       "    <tr>\n",
       "      <th>2</th>\n",
       "      <td>1.3</td>\n",
       "    </tr>\n",
       "    <tr>\n",
       "      <th>3</th>\n",
       "      <td>1.5</td>\n",
       "    </tr>\n",
       "    <tr>\n",
       "      <th>4</th>\n",
       "      <td>1.8</td>\n",
       "    </tr>\n",
       "    <tr>\n",
       "      <th>...</th>\n",
       "      <td>...</td>\n",
       "    </tr>\n",
       "    <tr>\n",
       "      <th>95</th>\n",
       "      <td>23.0</td>\n",
       "    </tr>\n",
       "    <tr>\n",
       "      <th>96</th>\n",
       "      <td>27.0</td>\n",
       "    </tr>\n",
       "    <tr>\n",
       "      <th>97</th>\n",
       "      <td>31.6</td>\n",
       "    </tr>\n",
       "    <tr>\n",
       "      <th>98</th>\n",
       "      <td>33.1</td>\n",
       "    </tr>\n",
       "    <tr>\n",
       "      <th>99</th>\n",
       "      <td>38.5</td>\n",
       "    </tr>\n",
       "  </tbody>\n",
       "</table>\n",
       "<p>100 rows × 1 columns</p>\n",
       "</div>"
      ],
      "text/plain": [
       "    Distance\n",
       "0        0.8\n",
       "1        0.8\n",
       "2        1.3\n",
       "3        1.5\n",
       "4        1.8\n",
       "..       ...\n",
       "95      23.0\n",
       "96      27.0\n",
       "97      31.6\n",
       "98      33.1\n",
       "99      38.5\n",
       "\n",
       "[100 rows x 1 columns]"
      ]
     },
     "execution_count": 13,
     "metadata": {},
     "output_type": "execute_result"
    }
   ],
   "source": [
    "#--------------------------\n",
    "# import dataset\n",
    "#--------------------------\n",
    "\n",
    "df = pd.read_csv(\"distance.txt\", sep = \"\\\\t\", names = [\"Distance\"])\n",
    "df"
   ]
  },
  {
   "cell_type": "code",
   "execution_count": 14,
   "metadata": {
    "ExecuteTime": {
     "end_time": "2023-05-24T06:51:01.486800Z",
     "start_time": "2023-05-24T06:51:01.448868Z"
    },
    "scrolled": true
   },
   "outputs": [
    {
     "data": {
      "text/html": [
       "<div>\n",
       "<style scoped>\n",
       "    .dataframe tbody tr th:only-of-type {\n",
       "        vertical-align: middle;\n",
       "    }\n",
       "\n",
       "    .dataframe tbody tr th {\n",
       "        vertical-align: top;\n",
       "    }\n",
       "\n",
       "    .dataframe thead th {\n",
       "        text-align: right;\n",
       "    }\n",
       "</style>\n",
       "<table border=\"1\" class=\"dataframe\">\n",
       "  <thead>\n",
       "    <tr style=\"text-align: right;\">\n",
       "      <th></th>\n",
       "      <th>Distance</th>\n",
       "    </tr>\n",
       "  </thead>\n",
       "  <tbody>\n",
       "    <tr>\n",
       "      <th>count</th>\n",
       "      <td>100.000</td>\n",
       "    </tr>\n",
       "    <tr>\n",
       "      <th>mean</th>\n",
       "      <td>9.877</td>\n",
       "    </tr>\n",
       "    <tr>\n",
       "      <th>std</th>\n",
       "      <td>7.237</td>\n",
       "    </tr>\n",
       "    <tr>\n",
       "      <th>min</th>\n",
       "      <td>0.800</td>\n",
       "    </tr>\n",
       "    <tr>\n",
       "      <th>25%</th>\n",
       "      <td>4.675</td>\n",
       "    </tr>\n",
       "    <tr>\n",
       "      <th>50%</th>\n",
       "      <td>8.100</td>\n",
       "    </tr>\n",
       "    <tr>\n",
       "      <th>75%</th>\n",
       "      <td>13.025</td>\n",
       "    </tr>\n",
       "    <tr>\n",
       "      <th>max</th>\n",
       "      <td>38.500</td>\n",
       "    </tr>\n",
       "  </tbody>\n",
       "</table>\n",
       "</div>"
      ],
      "text/plain": [
       "       Distance\n",
       "count   100.000\n",
       "mean      9.877\n",
       "std       7.237\n",
       "min       0.800\n",
       "25%       4.675\n",
       "50%       8.100\n",
       "75%      13.025\n",
       "max      38.500"
      ]
     },
     "execution_count": 14,
     "metadata": {},
     "output_type": "execute_result"
    }
   ],
   "source": [
    "#--------------------------\n",
    "# Show the summary Descriptive statstics \n",
    "#--------------------------\n",
    "round(df.describe(),3)"
   ]
  },
  {
   "cell_type": "code",
   "execution_count": 15,
   "metadata": {
    "ExecuteTime": {
     "end_time": "2023-05-24T06:51:01.534494Z",
     "start_time": "2023-05-24T06:51:01.495745Z"
    }
   },
   "outputs": [
    {
     "name": "stdout",
     "output_type": "stream",
     "text": [
      "\n",
      " The difference between mean  & median Q2 is:\n",
      "Distance    1.777\n",
      "dtype: float64\n",
      "\n",
      " The difference between Q2 & Q1 is:\n",
      "Distance    3.425\n",
      "dtype: float64\n",
      "\n",
      " The difference between Q3 & Q2 is:\n",
      "Distance    4.925\n",
      "dtype: float64\n"
     ]
    }
   ],
   "source": [
    "#--------------------------\n",
    "# Check the shape numerically:\n",
    "## Calculate mean - median\n",
    "## Calculate Q2 - Q1 and Q3 -Q2 \n",
    "#--------------------------\n",
    "\n",
    "print(\"\\n\", \"The difference between mean  & median Q2 is:\")\n",
    "print(df.mean() - df.median())\n",
    "print(\"\\n\", \"The difference between Q2 & Q1 is:\")\n",
    "print(df.quantile(0.50) - df.quantile(0.25))\n",
    "print(\"\\n\", \"The difference between Q3 & Q2 is:\")\n",
    "print(df.quantile(0.75) - df.quantile(0.50))\n",
    "\n"
   ]
  },
  {
   "cell_type": "markdown",
   "metadata": {},
   "source": [
    "**Comments**\n",
    "<br>\n",
    "Since the mean is greater than the median\n",
    "<br>\n",
    "AND\n",
    "The differnece between the 3rd quartile and the median is larger than the the difference between the  median and the 1st quartile\n",
    "<br>\n",
    "These suggest that the distance is skewed to the right"
   ]
  },
  {
   "cell_type": "code",
   "execution_count": 16,
   "metadata": {
    "ExecuteTime": {
     "end_time": "2023-05-24T06:51:01.926619Z",
     "start_time": "2023-05-24T06:51:01.537780Z"
    }
   },
   "outputs": [
    {
     "data": {
      "text/plain": [
       "<AxesSubplot:ylabel='Count'>"
      ]
     },
     "execution_count": 16,
     "metadata": {},
     "output_type": "execute_result"
    },
    {
     "data": {
      "image/png": "[encoded data removed]",
      "text/plain": [
       "<Figure size 640x480 with 1 Axes>"
      ]
     },
     "metadata": {},
     "output_type": "display_data"
    }
   ],
   "source": [
    "sns.histplot(data = df,\n",
    "            kde=True)"
   ]
  },
  {
   "cell_type": "code",
   "execution_count": 17,
   "metadata": {
    "ExecuteTime": {
     "end_time": "2023-05-24T06:51:02.270013Z",
     "start_time": "2023-05-24T06:51:01.936592Z"
    }
   },
   "outputs": [
    {
     "data": {
      "text/plain": [
       "<AxesSubplot:ylabel='Count'>"
      ]
     },
     "execution_count": 17,
     "metadata": {},
     "output_type": "execute_result"
    },
    {
     "data": {
      "image/png": "[encoded data removed]",
      "text/plain": [
       "<Figure size 640x480 with 1 Axes>"
      ]
     },
     "metadata": {},
     "output_type": "display_data"
    }
   ],
   "source": [
    "#--------------------------\n",
    "# Transform the distances\n",
    "# Draw a new histogram\n",
    "#--------------------------\n",
    "\n",
    "from sklearn.preprocessing import PowerTransformer\n",
    "\n",
    "Johnson_Transformation =  PowerTransformer(method='yeo-johnson')\n",
    "reshaped = df[\"Distance\"].array.reshape(-1, 1)\n",
    "Transformed_Distance = Johnson_Transformation.fit_transform(reshaped)\n",
    "\n",
    "\n",
    "sns.histplot(data = Transformed_Distance,\n",
    "            kde = True, bins=10)"
   ]
  },
  {
   "cell_type": "code",
   "execution_count": 18,
   "metadata": {
    "ExecuteTime": {
     "end_time": "2023-05-24T06:51:02.301356Z",
     "start_time": "2023-05-24T06:51:02.279987Z"
    }
   },
   "outputs": [
    {
     "name": "stdout",
     "output_type": "stream",
     "text": [
      "Mean is: 0.0\n",
      "STD is 1.0\n"
     ]
    }
   ],
   "source": [
    "# Calculate mean and sd\n",
    "mean_T = Transformed_Distance.mean()\n",
    "sd_T = Transformed_Distance.std() \n",
    "print(\"Mean is:\",round(mean_T, 5))\n",
    "print(\"STD is\",round(sd_T, 5))"
   ]
  },
  {
   "cell_type": "code",
   "execution_count": 19,
   "metadata": {
    "ExecuteTime": {
     "end_time": "2023-05-24T06:51:03.071647Z",
     "start_time": "2023-05-24T06:51:02.314451Z"
    },
    "scrolled": false
   },
   "outputs": [
    {
     "data": {
      "text/html": [
       "<div>\n",
       "<style scoped>\n",
       "    .dataframe tbody tr th:only-of-type {\n",
       "        vertical-align: middle;\n",
       "    }\n",
       "\n",
       "    .dataframe tbody tr th {\n",
       "        vertical-align: top;\n",
       "    }\n",
       "\n",
       "    .dataframe thead th {\n",
       "        text-align: right;\n",
       "    }\n",
       "</style>\n",
       "<table border=\"1\" class=\"dataframe\">\n",
       "  <thead>\n",
       "    <tr style=\"text-align: right;\">\n",
       "      <th></th>\n",
       "      <th>Distance</th>\n",
       "      <th>Transformed_Dist</th>\n",
       "    </tr>\n",
       "  </thead>\n",
       "  <tbody>\n",
       "    <tr>\n",
       "      <th>0</th>\n",
       "      <td>0.8</td>\n",
       "      <td>-2.302449</td>\n",
       "    </tr>\n",
       "    <tr>\n",
       "      <th>1</th>\n",
       "      <td>0.8</td>\n",
       "      <td>-2.302449</td>\n",
       "    </tr>\n",
       "    <tr>\n",
       "      <th>2</th>\n",
       "      <td>1.3</td>\n",
       "      <td>-1.973495</td>\n",
       "    </tr>\n",
       "    <tr>\n",
       "      <th>3</th>\n",
       "      <td>1.5</td>\n",
       "      <td>-1.859945</td>\n",
       "    </tr>\n",
       "    <tr>\n",
       "      <th>4</th>\n",
       "      <td>1.8</td>\n",
       "      <td>-1.704250</td>\n",
       "    </tr>\n",
       "    <tr>\n",
       "      <th>...</th>\n",
       "      <td>...</td>\n",
       "      <td>...</td>\n",
       "    </tr>\n",
       "    <tr>\n",
       "      <th>95</th>\n",
       "      <td>23.0</td>\n",
       "      <td>1.566138</td>\n",
       "    </tr>\n",
       "    <tr>\n",
       "      <th>96</th>\n",
       "      <td>27.0</td>\n",
       "      <td>1.825813</td>\n",
       "    </tr>\n",
       "    <tr>\n",
       "      <th>97</th>\n",
       "      <td>31.6</td>\n",
       "      <td>2.085576</td>\n",
       "    </tr>\n",
       "    <tr>\n",
       "      <th>98</th>\n",
       "      <td>33.1</td>\n",
       "      <td>2.163078</td>\n",
       "    </tr>\n",
       "    <tr>\n",
       "      <th>99</th>\n",
       "      <td>38.5</td>\n",
       "      <td>2.418525</td>\n",
       "    </tr>\n",
       "  </tbody>\n",
       "</table>\n",
       "<p>100 rows × 2 columns</p>\n",
       "</div>"
      ],
      "text/plain": [
       "    Distance  Transformed_Dist\n",
       "0        0.8         -2.302449\n",
       "1        0.8         -2.302449\n",
       "2        1.3         -1.973495\n",
       "3        1.5         -1.859945\n",
       "4        1.8         -1.704250\n",
       "..       ...               ...\n",
       "95      23.0          1.566138\n",
       "96      27.0          1.825813\n",
       "97      31.6          2.085576\n",
       "98      33.1          2.163078\n",
       "99      38.5          2.418525\n",
       "\n",
       "[100 rows x 2 columns]"
      ]
     },
     "metadata": {},
     "output_type": "display_data"
    },
    {
     "data": {
      "text/plain": [
       "<AxesSubplot:ylabel='Count'>"
      ]
     },
     "execution_count": 19,
     "metadata": {},
     "output_type": "execute_result"
    },
    {
     "data": {
      "image/png": "[encoded data removed]",
      "text/plain": [
       "<Figure size 640x480 with 1 Axes>"
      ]
     },
     "metadata": {},
     "output_type": "display_data"
    }
   ],
   "source": [
    "#--------------------------\n",
    "# Before & After transformation in one plot\n",
    "#--------------------------\n",
    "\n",
    "# Add the transformed into the data set\n",
    "df.insert(loc=1, value = Transformed_Distance, column = \"Transformed_Dist\")\n",
    "display(df)\n",
    "sns.histplot(data=df,bins=75, kde= True,  )\n"
   ]
  },
  {
   "cell_type": "code",
   "execution_count": 29,
   "metadata": {
    "ExecuteTime": {
     "end_time": "2023-05-24T08:10:11.444257Z",
     "start_time": "2023-05-24T08:10:11.402526Z"
    }
   },
   "outputs": [
    {
     "data": {
      "text/html": [
       "<div>\n",
       "<style scoped>\n",
       "    .dataframe tbody tr th:only-of-type {\n",
       "        vertical-align: middle;\n",
       "    }\n",
       "\n",
       "    .dataframe tbody tr th {\n",
       "        vertical-align: top;\n",
       "    }\n",
       "\n",
       "    .dataframe thead th {\n",
       "        text-align: right;\n",
       "    }\n",
       "</style>\n",
       "<table border=\"1\" class=\"dataframe\">\n",
       "  <thead>\n",
       "    <tr style=\"text-align: right;\">\n",
       "      <th></th>\n",
       "      <th>Transformed_Dist</th>\n",
       "    </tr>\n",
       "  </thead>\n",
       "  <tbody>\n",
       "    <tr>\n",
       "      <th>count</th>\n",
       "      <td>100.000</td>\n",
       "    </tr>\n",
       "    <tr>\n",
       "      <th>mean</th>\n",
       "      <td>0.000</td>\n",
       "    </tr>\n",
       "    <tr>\n",
       "      <th>std</th>\n",
       "      <td>1.005</td>\n",
       "    </tr>\n",
       "    <tr>\n",
       "      <th>min</th>\n",
       "      <td>-2.302</td>\n",
       "    </tr>\n",
       "    <tr>\n",
       "      <th>25%</th>\n",
       "      <td>-0.697</td>\n",
       "    </tr>\n",
       "    <tr>\n",
       "      <th>50%</th>\n",
       "      <td>0.012</td>\n",
       "    </tr>\n",
       "    <tr>\n",
       "      <th>75%</th>\n",
       "      <td>0.689</td>\n",
       "    </tr>\n",
       "    <tr>\n",
       "      <th>max</th>\n",
       "      <td>2.419</td>\n",
       "    </tr>\n",
       "  </tbody>\n",
       "</table>\n",
       "</div>"
      ],
      "text/plain": [
       "       Transformed_Dist\n",
       "count           100.000\n",
       "mean              0.000\n",
       "std               1.005\n",
       "min              -2.302\n",
       "25%              -0.697\n",
       "50%               0.012\n",
       "75%               0.689\n",
       "max               2.419"
      ]
     },
     "execution_count": 29,
     "metadata": {},
     "output_type": "execute_result"
    }
   ],
   "source": [
    "round(df.describe(),3).iloc[:,[1]]"
   ]
  },
  {
   "cell_type": "code",
   "execution_count": 21,
   "metadata": {
    "ExecuteTime": {
     "end_time": "2023-05-24T06:51:49.327714Z",
     "start_time": "2023-05-24T06:51:03.098353Z"
    },
    "scrolled": false
   },
   "outputs": [
    {
     "name": "stderr",
     "output_type": "stream",
     "text": [
      "Fitting 110 distributions:   0%|                                                           | 0/110 [00:00<?, ?it/s]SKIPPED _fit distribution (taking more than 30 seconds)\n",
      "Fitting 110 distributions:  32%|███████████████▉                                  | 35/110 [00:05<00:19,  3.83it/s]C:\\Users\\AmmarYasser\\anaconda3\\lib\\site-packages\\scipy\\stats\\_continuous_distns.py:3485: IntegrationWarning: The algorithm does not converge.  Roundoff error is detected\n",
      "  in the extrapolation table.  It is assumed that the requested tolerance\n",
      "  cannot be achieved, and that the returned result (if full_output = 1) is \n",
      "  the best which can be obtained.\n",
      "  t1 = integrate.quad(llc, -np.inf, x)[0]\n",
      "Fitting 110 distributions:  48%|████████████████████████                          | 53/110 [00:08<00:17,  3.34it/s]SKIPPED kstwo distribution (taking more than 30 seconds)\n",
      "Fitting 110 distributions:  76%|██████████████████████████████████████▏           | 84/110 [00:14<00:04,  5.24it/s]SKIPPED rv_continuous distribution (taking more than 30 seconds)\n",
      "Fitting 110 distributions:  78%|███████████████████████████████████████           | 86/110 [00:15<00:03,  6.63it/s]SKIPPED rv_histogram distribution (taking more than 30 seconds)\n",
      "Fitting 110 distributions:  96%|███████████████████████████████████████████████▏ | 106/110 [00:33<00:05,  1.35s/it]C:\\Users\\AmmarYasser\\anaconda3\\lib\\site-packages\\scipy\\integrate\\_quadpack_py.py:1225: IntegrationWarning: The maximum number of subdivisions (50) has been achieved.\n",
      "  If increasing the limit yields no improvement it is advised to analyze \n",
      "  the integrand in order to determine the difficulties.  If the position of a \n",
      "  local difficulty can be determined (singularity, discontinuity) one will \n",
      "  probably gain from splitting up the interval and calling the integrator \n",
      "  on the subranges.  Perhaps a special-purpose integrator should be used.\n",
      "  quad_r = quad(f, low, high, args=args, full_output=self.full_output,\n",
      "Fitting 110 distributions:  99%|████████████████████████████████████████████████▌| 109/110 [00:44<00:02,  2.21s/it]SKIPPED studentized_range distribution (taking more than 30 seconds)\n",
      "Fitting 110 distributions: 100%|█████████████████████████████████████████████████| 110/110 [00:46<00:00,  2.38it/s]\n"
     ]
    },
    {
     "data": {
      "text/plain": [
       "{'laplace_asymmetric': {'kappa': 0.4751931435201977,\n",
       "  'loc': 4.1999998069861135,\n",
       "  'scale': 3.4844333887047387}}"
      ]
     },
     "execution_count": 21,
     "metadata": {},
     "output_type": "execute_result"
    }
   ],
   "source": [
    "from fitter import Fitter\n",
    "import pandas as pd\n",
    "import numpy as np\n",
    "\n",
    "\n",
    "\n",
    "f = Fitter(df[\"Distance\"],\n",
    "           distributions= None)\n",
    "f.fit()\n",
    "best_fit_name = f.get_best(method='sumsquare_error')\n",
    "best_fit_name"
   ]
  }
 ],
 "metadata": {
  "kernelspec": {
   "display_name": "Python 3 (ipykernel)",
   "language": "python",
   "name": "python3"
  },
  "language_info": {
   "codemirror_mode": {
    "name": "ipython",
    "version": 3
   },
   "file_extension": ".py",
   "mimetype": "text/x-python",
   "name": "python",
   "nbconvert_exporter": "python",
   "pygments_lexer": "ipython3",
   "version": "3.8.5"
  },
  "toc": {
   "base_numbering": 1,
   "nav_menu": {
    "height": "101px",
    "width": "188px"
   },
   "number_sections": true,
   "sideBar": true,
   "skip_h1_title": false,
   "title_cell": "Table of Contents",
   "title_sidebar": "Contents",
   "toc_cell": false,
   "toc_position": {},
   "toc_section_display": true,
   "toc_window_display": false
  }
 },
 "nbformat": 4,
 "nbformat_minor": 4
}
